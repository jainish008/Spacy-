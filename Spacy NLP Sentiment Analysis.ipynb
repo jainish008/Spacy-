{
 "cells": [
  {
   "cell_type": "code",
   "execution_count": 3,
   "metadata": {},
   "outputs": [],
   "source": [
    "import spacy"
   ]
  },
  {
   "cell_type": "code",
   "execution_count": 4,
   "metadata": {},
   "outputs": [
    {
     "name": "stdout",
     "output_type": "stream",
     "text": [
      "Collecting spacytextblob\n",
      "  Downloading spacytextblob-3.0.1-py3-none-any.whl (4.1 kB)\n",
      "Requirement already satisfied: spacy<4.0,>=3.0 in c:\\users\\rj\\anaconda3\\lib\\site-packages (from spacytextblob) (3.1.3)\n",
      "Requirement already satisfied: textblob<0.16.0,>=0.15.3 in c:\\users\\rj\\anaconda3\\lib\\site-packages (from spacytextblob) (0.15.3)\n",
      "Requirement already satisfied: wasabi<1.1.0,>=0.8.1 in c:\\users\\rj\\anaconda3\\lib\\site-packages (from spacy<4.0,>=3.0->spacytextblob) (0.8.2)\n",
      "Requirement already satisfied: murmurhash<1.1.0,>=0.28.0 in c:\\users\\rj\\anaconda3\\lib\\site-packages (from spacy<4.0,>=3.0->spacytextblob) (1.0.6)\n",
      "Note: you may need to restart the kernel to use updated packages.\n",
      "Requirement already satisfied: numpy>=1.15.0 in c:\\users\\rj\\anaconda3\\lib\\site-packages (from spacy<4.0,>=3.0->spacytextblob) (1.19.2)\n",
      "Requirement already satisfied: spacy-legacy<3.1.0,>=3.0.8 in c:\\users\\rj\\anaconda3\\lib\\site-packages (from spacy<4.0,>=3.0->spacytextblob) (3.0.8)\n",
      "Requirement already satisfied: pathy>=0.3.5 in c:\\users\\rj\\anaconda3\\lib\\site-packages (from spacy<4.0,>=3.0->spacytextblob) (0.6.1)\n",
      "Requirement already satisfied: setuptools in c:\\users\\rj\\anaconda3\\lib\\site-packages (from spacy<4.0,>=3.0->spacytextblob) (50.3.1.post20201107)\n",
      "Requirement already satisfied: preshed<3.1.0,>=3.0.2 in c:\\users\\rj\\anaconda3\\lib\\site-packages (from spacy<4.0,>=3.0->spacytextblob) (3.0.6)\n",
      "Requirement already satisfied: srsly<3.0.0,>=2.4.1 in c:\\users\\rj\\anaconda3\\lib\\site-packages (from spacy<4.0,>=3.0->spacytextblob) (2.4.2)\n",
      "Requirement already satisfied: pydantic!=1.8,!=1.8.1,<1.9.0,>=1.7.4 in c:\\users\\rj\\anaconda3\\lib\\site-packages (from spacy<4.0,>=3.0->spacytextblob) (1.8.2)\n",
      "Requirement already satisfied: packaging>=20.0 in c:\\users\\rj\\anaconda3\\lib\\site-packages (from spacy<4.0,>=3.0->spacytextblob) (20.4)\n",
      "Requirement already satisfied: catalogue<2.1.0,>=2.0.6 in c:\\users\\rj\\anaconda3\\lib\\site-packages (from spacy<4.0,>=3.0->spacytextblob) (2.0.6)\n",
      "Requirement already satisfied: blis<0.8.0,>=0.4.0 in c:\\users\\rj\\anaconda3\\lib\\site-packages (from spacy<4.0,>=3.0->spacytextblob) (0.7.4)\n",
      "Requirement already satisfied: thinc<8.1.0,>=8.0.9 in c:\\users\\rj\\anaconda3\\lib\\site-packages (from spacy<4.0,>=3.0->spacytextblob) (8.0.11)\n",
      "Requirement already satisfied: tqdm<5.0.0,>=4.38.0 in c:\\users\\rj\\anaconda3\\lib\\site-packages (from spacy<4.0,>=3.0->spacytextblob) (4.50.2)\n",
      "Requirement already satisfied: jinja2 in c:\\users\\rj\\anaconda3\\lib\\site-packages (from spacy<4.0,>=3.0->spacytextblob) (2.11.2)\n",
      "Requirement already satisfied: typer<0.5.0,>=0.3.0 in c:\\users\\rj\\anaconda3\\lib\\site-packages (from spacy<4.0,>=3.0->spacytextblob) (0.4.0)\n",
      "Requirement already satisfied: cymem<2.1.0,>=2.0.2 in c:\\users\\rj\\anaconda3\\lib\\site-packages (from spacy<4.0,>=3.0->spacytextblob) (2.0.6)\n",
      "Requirement already satisfied: requests<3.0.0,>=2.13.0 in c:\\users\\rj\\anaconda3\\lib\\site-packages (from spacy<4.0,>=3.0->spacytextblob) (2.24.0)\n",
      "Requirement already satisfied: nltk>=3.1 in c:\\users\\rj\\anaconda3\\lib\\site-packages (from textblob<0.16.0,>=0.15.3->spacytextblob) (3.5)\n",
      "Requirement already satisfied: smart-open<6.0.0,>=5.0.0 in c:\\users\\rj\\anaconda3\\lib\\site-packages (from pathy>=0.3.5->spacy<4.0,>=3.0->spacytextblob) (5.2.1)\n",
      "Requirement already satisfied: typing-extensions>=3.7.4.3 in c:\\users\\rj\\anaconda3\\lib\\site-packages (from pydantic!=1.8,!=1.8.1,<1.9.0,>=1.7.4->spacy<4.0,>=3.0->spacytextblob) (3.10.0.2)\n",
      "Requirement already satisfied: six in c:\\users\\rj\\anaconda3\\lib\\site-packages (from packaging>=20.0->spacy<4.0,>=3.0->spacytextblob) (1.15.0)\n",
      "Requirement already satisfied: pyparsing>=2.0.2 in c:\\users\\rj\\anaconda3\\lib\\site-packages (from packaging>=20.0->spacy<4.0,>=3.0->spacytextblob) (2.4.7)\n",
      "Requirement already satisfied: MarkupSafe>=0.23 in c:\\users\\rj\\anaconda3\\lib\\site-packages (from jinja2->spacy<4.0,>=3.0->spacytextblob) (1.1.1)\n",
      "Requirement already satisfied: click<9.0.0,>=7.1.1 in c:\\users\\rj\\anaconda3\\lib\\site-packages (from typer<0.5.0,>=0.3.0->spacy<4.0,>=3.0->spacytextblob) (7.1.2)\n",
      "Requirement already satisfied: chardet<4,>=3.0.2 in c:\\users\\rj\\anaconda3\\lib\\site-packages (from requests<3.0.0,>=2.13.0->spacy<4.0,>=3.0->spacytextblob) (3.0.4)\n",
      "Requirement already satisfied: certifi>=2017.4.17 in c:\\users\\rj\\anaconda3\\lib\\site-packages (from requests<3.0.0,>=2.13.0->spacy<4.0,>=3.0->spacytextblob) (2021.10.8)\n",
      "Requirement already satisfied: idna<3,>=2.5 in c:\\users\\rj\\anaconda3\\lib\\site-packages (from requests<3.0.0,>=2.13.0->spacy<4.0,>=3.0->spacytextblob) (2.10)\n",
      "Requirement already satisfied: urllib3!=1.25.0,!=1.25.1,<1.26,>=1.21.1 in c:\\users\\rj\\anaconda3\\lib\\site-packages (from requests<3.0.0,>=2.13.0->spacy<4.0,>=3.0->spacytextblob) (1.25.11)\n",
      "Requirement already satisfied: regex in c:\\users\\rj\\anaconda3\\lib\\site-packages (from nltk>=3.1->textblob<0.16.0,>=0.15.3->spacytextblob) (2020.10.15)\n",
      "Requirement already satisfied: joblib in c:\\users\\rj\\anaconda3\\lib\\site-packages (from nltk>=3.1->textblob<0.16.0,>=0.15.3->spacytextblob) (0.17.0)\n",
      "Installing collected packages: spacytextblob\n",
      "Successfully installed spacytextblob-3.0.1\n"
     ]
    }
   ],
   "source": [
    "pip install spacytextblob"
   ]
  },
  {
   "cell_type": "code",
   "execution_count": 5,
   "metadata": {},
   "outputs": [],
   "source": [
    "from spacytextblob.spacytextblob import SpacyTextBlob"
   ]
  },
  {
   "cell_type": "code",
   "execution_count": 7,
   "metadata": {},
   "outputs": [
    {
     "data": {
      "text/plain": [
       "<spacytextblob.spacytextblob.SpacyTextBlob at 0x16bdbd3d370>"
      ]
     },
     "execution_count": 7,
     "metadata": {},
     "output_type": "execute_result"
    }
   ],
   "source": [
    "nlp = spacy.load('en_core_web_sm')\n",
    "nlp.add_pipe('spacytextblob')"
   ]
  },
  {
   "cell_type": "code",
   "execution_count": 8,
   "metadata": {},
   "outputs": [],
   "source": [
    "text = 'Big Negative for IRCTC Investors. After split such kind of news suggest something was wrong. This should be probed'\n",
    "doc = nlp(text)"
   ]
  },
  {
   "cell_type": "code",
   "execution_count": 10,
   "metadata": {},
   "outputs": [
    {
     "data": {
      "text/plain": [
       "-0.04"
      ]
     },
     "execution_count": 10,
     "metadata": {},
     "output_type": "execute_result"
    }
   ],
   "source": [
    "doc._.polarity "
   ]
  },
  {
   "cell_type": "code",
   "execution_count": 12,
   "metadata": {},
   "outputs": [
    {
     "data": {
      "text/plain": [
       "0.5599999999999999"
      ]
     },
     "execution_count": 12,
     "metadata": {},
     "output_type": "execute_result"
    }
   ],
   "source": [
    "doc._.subjectivity"
   ]
  },
  {
   "cell_type": "code",
   "execution_count": 13,
   "metadata": {},
   "outputs": [
    {
     "data": {
      "text/plain": [
       "[(['big'], 0.0, 0.1, None),\n",
       " (['negative'], -0.3, 0.4, None),\n",
       " (['such'], 0.0, 0.5, None),\n",
       " (['kind'], 0.6, 0.9, None),\n",
       " (['wrong'], -0.5, 0.9, None)]"
      ]
     },
     "execution_count": 13,
     "metadata": {},
     "output_type": "execute_result"
    }
   ],
   "source": [
    "doc._.assessments"
   ]
  }
 ],
 "metadata": {
  "kernelspec": {
   "display_name": "Python 3",
   "language": "python",
   "name": "python3"
  },
  "language_info": {
   "codemirror_mode": {
    "name": "ipython",
    "version": 3
   },
   "file_extension": ".py",
   "mimetype": "text/x-python",
   "name": "python",
   "nbconvert_exporter": "python",
   "pygments_lexer": "ipython3",
   "version": "3.8.5"
  }
 },
 "nbformat": 4,
 "nbformat_minor": 4
}
